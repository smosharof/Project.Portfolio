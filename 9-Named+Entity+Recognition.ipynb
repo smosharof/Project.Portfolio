{
  "cells": [
    {
      "cell_type": "markdown",
      "metadata": {
        "id": "cJyju8rQpASo"
      },
      "source": [
        "### Named Entity Recognition"
      ]
    },
    {
      "cell_type": "raw",
      "metadata": {
        "id": "QVC9cvxCpASp"
      },
      "source": [
        "sentence=\"The Eiffel Tower was built from 1887 to 1889 by French engineer Gustave Eiffel, whose company specialized in building metal frameworks and structures.\"\n",
        "\"\"\"\n",
        "Person Eg: Krish C Naik\n",
        "Place Or Location Eg: India\n",
        "Date Eg: September,24-09-1989\n",
        "Time  Eg: 4:30pm\n",
        "Money Eg: 1 million dollar\n",
        "Organization Eg: iNeuron Private Limited\n",
        "Percent Eg: 20%, twenty percent\n",
        "\"\"\""
      ]
    },
    {
      "cell_type": "code",
      "execution_count": 1,
      "metadata": {
        "id": "2m5mdx-lpASp"
      },
      "outputs": [],
      "source": [
        "sentence=\"The Eiffel Tower was built from 1887 to 1889 by Gustave Eiffel, whose company specialized in building metal frameworks and structures.\""
      ]
    },
    {
      "source": [
        "import nltk\n",
        "\n",
        "# Download the 'punkt_tab' resource\n",
        "nltk.download('punkt_tab')\n",
        "\n",
        "# Now, proceed with your code\n",
        "words = nltk.word_tokenize(sentence)"
      ],
      "cell_type": "code",
      "metadata": {
        "id": "5pYswrHMpQSE",
        "outputId": "8982a9cb-220a-4bea-9cd6-ad8756f60708",
        "colab": {
          "base_uri": "https://localhost:8080/"
        }
      },
      "execution_count": 3,
      "outputs": [
        {
          "output_type": "stream",
          "name": "stderr",
          "text": [
            "[nltk_data] Downloading package punkt_tab to /root/nltk_data...\n",
            "[nltk_data]   Unzipping tokenizers/punkt_tab.zip.\n"
          ]
        }
      ]
    },
    {
      "cell_type": "code",
      "execution_count": 4,
      "metadata": {
        "collapsed": true,
        "id": "N7W9tV4ApASq"
      },
      "outputs": [],
      "source": [
        "import nltk\n",
        "words=nltk.word_tokenize(sentence)"
      ]
    },
    {
      "source": [
        "import nltk\n",
        "\n",
        "# Download the required resource\n",
        "nltk.download('averaged_perceptron_tagger_eng')\n",
        "\n",
        "# Now, proceed with your code\n",
        "tag_elements = nltk.pos_tag(words)"
      ],
      "cell_type": "code",
      "metadata": {
        "id": "R_iqdYO2p_Kl",
        "outputId": "7ab11610-a89a-4566-f344-29a7c8c612c5",
        "colab": {
          "base_uri": "https://localhost:8080/"
        }
      },
      "execution_count": 6,
      "outputs": [
        {
          "output_type": "stream",
          "name": "stderr",
          "text": [
            "[nltk_data] Downloading package averaged_perceptron_tagger_eng to\n",
            "[nltk_data]     /root/nltk_data...\n",
            "[nltk_data]   Unzipping taggers/averaged_perceptron_tagger_eng.zip.\n"
          ]
        }
      ]
    },
    {
      "cell_type": "code",
      "execution_count": 7,
      "metadata": {
        "collapsed": true,
        "id": "jTfWKKX-pASq"
      },
      "outputs": [],
      "source": [
        "tag_elements=nltk.pos_tag(words)"
      ]
    },
    {
      "cell_type": "code",
      "execution_count": 8,
      "metadata": {
        "id": "W7UsWfrApASq",
        "outputId": "1dcaae55-cdc8-4f03-82a5-d971358f676a",
        "colab": {
          "base_uri": "https://localhost:8080/"
        }
      },
      "outputs": [
        {
          "output_type": "stream",
          "name": "stderr",
          "text": [
            "[nltk_data] Downloading package maxent_ne_chunker to\n",
            "[nltk_data]     /root/nltk_data...\n",
            "[nltk_data]   Unzipping chunkers/maxent_ne_chunker.zip.\n"
          ]
        },
        {
          "output_type": "execute_result",
          "data": {
            "text/plain": [
              "True"
            ]
          },
          "metadata": {},
          "execution_count": 8
        }
      ],
      "source": [
        "nltk.download('maxent_ne_chunker')"
      ]
    },
    {
      "cell_type": "code",
      "execution_count": 9,
      "metadata": {
        "id": "uoA-1n8IpASr",
        "outputId": "8d3c08b4-5808-44ff-ca2a-86aa719ba1ad",
        "colab": {
          "base_uri": "https://localhost:8080/"
        }
      },
      "outputs": [
        {
          "output_type": "stream",
          "name": "stderr",
          "text": [
            "[nltk_data] Downloading package words to /root/nltk_data...\n",
            "[nltk_data]   Unzipping corpora/words.zip.\n"
          ]
        },
        {
          "output_type": "execute_result",
          "data": {
            "text/plain": [
              "True"
            ]
          },
          "metadata": {},
          "execution_count": 9
        }
      ],
      "source": [
        "nltk.download('words')"
      ]
    },
    {
      "source": [
        "import nltk\n",
        "\n",
        "# Download the 'maxent_ne_chunker_tab' resource\n",
        "nltk.download('maxent_ne_chunker_tab')\n",
        "\n",
        "# Now proceed with your code\n",
        "# Instead of using .draw(), print the tree structure\n",
        "chunked_tree = nltk.ne_chunk(tag_elements)\n",
        "print(chunked_tree)"
      ],
      "cell_type": "code",
      "metadata": {
        "id": "3rDxPXbZqhGp",
        "outputId": "0f92c219-8a28-49c5-c009-b84811d9b797",
        "colab": {
          "base_uri": "https://localhost:8080/"
        }
      },
      "execution_count": 12,
      "outputs": [
        {
          "output_type": "stream",
          "name": "stderr",
          "text": [
            "[nltk_data] Downloading package maxent_ne_chunker_tab to\n",
            "[nltk_data]     /root/nltk_data...\n",
            "[nltk_data]   Package maxent_ne_chunker_tab is already up-to-date!\n"
          ]
        },
        {
          "output_type": "stream",
          "name": "stdout",
          "text": [
            "(S\n",
            "  The/DT\n",
            "  (ORGANIZATION Eiffel/NNP Tower/NNP)\n",
            "  was/VBD\n",
            "  built/VBN\n",
            "  from/IN\n",
            "  1887/CD\n",
            "  to/TO\n",
            "  1889/CD\n",
            "  by/IN\n",
            "  (PERSON Gustave/NNP Eiffel/NNP)\n",
            "  ,/,\n",
            "  whose/WP$\n",
            "  company/NN\n",
            "  specialized/VBD\n",
            "  in/IN\n",
            "  building/NN\n",
            "  metal/NN\n",
            "  frameworks/NNS\n",
            "  and/CC\n",
            "  structures/NNS\n",
            "  ./.)\n"
          ]
        }
      ]
    },
    {
      "cell_type": "markdown",
      "source": [],
      "metadata": {
        "id": "TSy6Fa2zqLI2"
      }
    }
  ],
  "metadata": {
    "kernelspec": {
      "display_name": "Python 3",
      "language": "python",
      "name": "python3"
    },
    "language_info": {
      "codemirror_mode": {
        "name": "ipython",
        "version": 3
      },
      "file_extension": ".py",
      "mimetype": "text/x-python",
      "name": "python",
      "nbconvert_exporter": "python",
      "pygments_lexer": "ipython3",
      "version": "3.8.5"
    },
    "colab": {
      "provenance": []
    }
  },
  "nbformat": 4,
  "nbformat_minor": 0
}